{
 "cells": [
  {
   "attachments": {},
   "cell_type": "markdown",
   "metadata": {},
   "source": [
    "# Quantifying Shakespeare\n",
    "Analyzing the frequencies of different letters in Shakespeare's work.\n",
    "\n",
    "(Data from: bit.ly/shakespeare-txt)\n",
    "\n",
    "In this Notebook, we will:\n",
    "1. Read all of Shakespeare's works into a list of strings\n",
    "2. Count the frequencies with letters used\n",
    "3. Visualize the frequencies with a bar graph"
   ]
  },
  {
   "cell_type": "code",
   "execution_count": 35,
   "metadata": {},
   "outputs": [
    {
     "name": "stdout",
     "output_type": "stream",
     "text": [
      "124456\n"
     ]
    }
   ],
   "source": [
    "from io import TextIOWrapper\n",
    "\n",
    "def read_lines(filename: str) -> list[str]:\n",
    "    \"\"\"Read a text filed into a list of strings for each line.\"\"\"\n",
    "    lines: list[str] = []\n",
    "    file_handle: TextIOWrapper = open(filename, \"r\")\n",
    "    for line in file_handle:\n",
    "        # strip leading and tailing whitespeaces \" a \" -> \"a\"\n",
    "        line = line.strip()\n",
    "        # make every character lowercase \n",
    "        line = line.lower()\n",
    "        lines.append(line)\n",
    "    file_handle.close()\n",
    "    return lines\n",
    "\n",
    "shakespeare_lines: list[str] = read_lines(\"../data/t8.shakespeare.txt\")\n",
    "print(len(shakespeare_lines))"
   ]
  },
  {
   "cell_type": "code",
   "execution_count": 36,
   "metadata": {},
   "outputs": [],
   "source": [
    "def tally(counts: dict[str, int], key: str) -> None:\n",
    "    \"\"\"Mutates counts by increasing the value stored at key by 1.\"\"\"\n",
    "    if key in counts:\n",
    "        counts[key] += 1\n",
    "    else:\n",
    "        counts[key] = 1"
   ]
  },
  {
   "cell_type": "code",
   "execution_count": 37,
   "metadata": {},
   "outputs": [
    {
     "name": "stdout",
     "output_type": "stream",
     "text": [
      "{'a': 1}\n",
      "{'a': 2}\n",
      "{'a': 2, 'b': 1}\n"
     ]
    }
   ],
   "source": [
    "d: dict = {}\n",
    "tally(d, \"a\")\n",
    "#d = {\"a\": 1}\n",
    "print(d)\n",
    "tally(d, \"a\")\n",
    "#d= {\"a\": 2}\n",
    "print(d)\n",
    "tally(d, \"b\")\n",
    "#d = {\"a\": 2, \"b\": 1}\n",
    "print(d)"
   ]
  },
  {
   "cell_type": "code",
   "execution_count": 38,
   "metadata": {},
   "outputs": [
    {
     "name": "stdout",
     "output_type": "stream",
     "text": [
      "{'t': 329775, 'h': 236868, 'i': 253990, 's': 248989, 'e': 447204, 'x': 5294, 'f': 80516, 'l': 170019, 'p': 58464, 'r': 237864, 'n': 243262, 'd': 149462, 'b': 61956, 'y': 94370, 'o': 314600, 'j': 4779, 'c': 88185, 'g': 68199, 'u': 128947, 'a': 289150, 'w': 89390, 'm': 111452, 'k': 35408, 'v': 37569, 'z': 1631, 'q': 3582}\n"
     ]
    }
   ],
   "source": [
    "def count_letters(lines: list[str]) -> dict[str, int]:\n",
    "    \"\"\"Counts the frequencies of all letters in a list of strings.\"\"\"\n",
    "    counts: dict[str, int]= {}\n",
    "    for line in lines: #line is a string\n",
    "        for letter in line:\n",
    "            if letter.isalpha():\n",
    "                tally(counts, letter)\n",
    "    return counts\n",
    "\n",
    "shakes_letters: dict[str, int] = count_letters(shakespeare_lines)\n",
    "print(shakes_letters)"
   ]
  },
  {
   "attachments": {},
   "cell_type": "markdown",
   "metadata": {},
   "source": [
    "## Sorting Dictionaries"
   ]
  },
  {
   "cell_type": "code",
   "execution_count": 39,
   "metadata": {},
   "outputs": [
    {
     "name": "stdout",
     "output_type": "stream",
     "text": [
      "{'t': 329775, 'h': 236868, 'i': 253990, 's': 248989, 'e': 447204, 'x': 5294, 'f': 80516, 'l': 170019, 'p': 58464, 'r': 237864, 'n': 243262, 'd': 149462, 'b': 61956, 'y': 94370, 'o': 314600, 'j': 4779, 'c': 88185, 'g': 68199, 'u': 128947, 'a': 289150, 'w': 89390, 'm': 111452, 'k': 35408, 'v': 37569, 'z': 1631, 'q': 3582}\n",
      "[('t', 329775), ('h', 236868), ('i', 253990), ('s', 248989), ('e', 447204), ('x', 5294), ('f', 80516), ('l', 170019), ('p', 58464), ('r', 237864), ('n', 243262), ('d', 149462), ('b', 61956), ('y', 94370), ('o', 314600), ('j', 4779), ('c', 88185), ('g', 68199), ('u', 128947), ('a', 289150), ('w', 89390), ('m', 111452), ('k', 35408), ('v', 37569), ('z', 1631), ('q', 3582)]\n",
      "[('a', 289150), ('b', 61956), ('c', 88185), ('d', 149462), ('e', 447204), ('f', 80516), ('g', 68199), ('h', 236868), ('i', 253990), ('j', 4779), ('k', 35408), ('l', 170019), ('m', 111452), ('n', 243262), ('o', 314600), ('p', 58464), ('q', 3582), ('r', 237864), ('s', 248989), ('t', 329775), ('u', 128947), ('v', 37569), ('w', 89390), ('x', 5294), ('y', 94370), ('z', 1631)]\n",
      "{'a': 289150, 'b': 61956, 'c': 88185, 'd': 149462, 'e': 447204, 'f': 80516, 'g': 68199, 'h': 236868, 'i': 253990, 'j': 4779, 'k': 35408, 'l': 170019, 'm': 111452, 'n': 243262, 'o': 314600, 'p': 58464, 'q': 3582, 'r': 237864, 's': 248989, 't': 329775, 'u': 128947, 'v': 37569, 'w': 89390, 'x': 5294, 'y': 94370, 'z': 1631}\n"
     ]
    }
   ],
   "source": [
    "# Make my dictionary a list (sorted by keys)\n",
    "print(shakes_letters)\n",
    "list_version_shakes: list[tuple[str, int]] = list(shakes_letters.items())\n",
    "print(list_version_shakes)\n",
    "\n",
    "# Sort a list\n",
    "sorted_letters_list = sorted(list_version_shakes)\n",
    "print(sorted_letters_list)\n",
    "sorted_letters_dict = dict(sorted_letters_list)\n",
    "print(sorted_letters_dict)"
   ]
  },
  {
   "cell_type": "code",
   "execution_count": 40,
   "metadata": {},
   "outputs": [
    {
     "ename": "ModuleNotFoundError",
     "evalue": "No module named 'matplotlib'",
     "output_type": "error",
     "traceback": [
      "\u001b[0;31m---------------------------------------------------------------------------\u001b[0m",
      "\u001b[0;31mModuleNotFoundError\u001b[0m                       Traceback (most recent call last)",
      "Cell \u001b[0;32mIn[40], line 1\u001b[0m\n\u001b[0;32m----> 1\u001b[0m \u001b[39mfrom\u001b[39;00m \u001b[39mmatplotlib\u001b[39;00m \u001b[39mimport\u001b[39;00m pyplot\n\u001b[1;32m      3\u001b[0m pyplot\u001b[39m.\u001b[39mtitle(\u001b[39m\"\u001b[39m\u001b[39mLetters Frequency\u001b[39m\u001b[39m\"\u001b[39m)\n\u001b[1;32m      4\u001b[0m pyplot\u001b[39m.\u001b[39mxlabel(\u001b[39m\"\u001b[39m\u001b[39mLetters\u001b[39m\u001b[39m\"\u001b[39m)\n",
      "\u001b[0;31mModuleNotFoundError\u001b[0m: No module named 'matplotlib'"
     ]
    }
   ],
   "source": [
    "from matplotlib import pyplot\n",
    "\n",
    "pyplot.title(\"Letters Frequency\")\n",
    "pyplot.xlabel(\"Letters\")\n",
    "pyplot.ylabel(\"Frequency\")\n",
    "labels: list[str] = list(sorted_letters_dict.keys())\n",
    "values: list[int] = list(sorted_letters_dict.values())\n",
    "pyplot.bar(labels, values)"
   ]
  }
 ],
 "metadata": {
  "kernelspec": {
   "display_name": "Python 3",
   "language": "python",
   "name": "python3"
  },
  "language_info": {
   "codemirror_mode": {
    "name": "ipython",
    "version": 3
   },
   "file_extension": ".py",
   "mimetype": "text/x-python",
   "name": "python",
   "nbconvert_exporter": "python",
   "pygments_lexer": "ipython3",
   "version": "3.11.1 (v3.11.1:a7a450f84a, Dec  6 2022, 15:24:06) [Clang 13.0.0 (clang-1300.0.29.30)]"
  },
  "orig_nbformat": 4,
  "vscode": {
   "interpreter": {
    "hash": "aee8b7b246df8f9039afb4144a1f6fd8d2ca17a180786b69acc140d282b71a49"
   }
  }
 },
 "nbformat": 4,
 "nbformat_minor": 2
}
